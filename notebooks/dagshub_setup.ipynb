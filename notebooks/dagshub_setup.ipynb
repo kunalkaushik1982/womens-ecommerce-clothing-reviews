{
 "cells": [
  {
   "cell_type": "code",
   "execution_count": 1,
   "metadata": {},
   "outputs": [],
   "source": [
    "import mlflow\n",
    "import dagshub"
   ]
  },
  {
   "cell_type": "code",
   "execution_count": 2,
   "metadata": {},
   "outputs": [
    {
     "data": {
      "text/html": [
       "<pre style=\"white-space:pre;overflow-x:auto;line-height:normal;font-family:Menlo,'DejaVu Sans Mono',consolas,'Courier New',monospace\">Accessing as kunalkaushik1982\n",
       "</pre>\n"
      ],
      "text/plain": [
       "Accessing as kunalkaushik1982\n"
      ]
     },
     "metadata": {},
     "output_type": "display_data"
    },
    {
     "data": {
      "text/html": [
       "<pre style=\"white-space:pre;overflow-x:auto;line-height:normal;font-family:Menlo,'DejaVu Sans Mono',consolas,'Courier New',monospace\">Initialized MLflow to track repo <span style=\"color: #008000; text-decoration-color: #008000\">\"kunalkaushik1982/womens-ecommerce-clothing-reviews\"</span>\n",
       "</pre>\n"
      ],
      "text/plain": [
       "Initialized MLflow to track repo \u001b[32m\"kunalkaushik1982/womens-ecommerce-clothing-reviews\"\u001b[0m\n"
      ]
     },
     "metadata": {},
     "output_type": "display_data"
    },
    {
     "data": {
      "text/html": [
       "<pre style=\"white-space:pre;overflow-x:auto;line-height:normal;font-family:Menlo,'DejaVu Sans Mono',consolas,'Courier New',monospace\">Repository kunalkaushik1982/womens-ecommerce-clothing-reviews initialized!\n",
       "</pre>\n"
      ],
      "text/plain": [
       "Repository kunalkaushik1982/womens-ecommerce-clothing-reviews initialized!\n"
      ]
     },
     "metadata": {},
     "output_type": "display_data"
    },
    {
     "name": "stdout",
     "output_type": "stream",
     "text": [
      "🏃 View run secretive-slug-564 at: https://dagshub.com/kunalkaushik1982/womens-ecommerce-clothing-reviews.mlflow/#/experiments/0/runs/ffd7534886ea4050b9117e964dfd9254\n",
      "🧪 View experiment at: https://dagshub.com/kunalkaushik1982/womens-ecommerce-clothing-reviews.mlflow/#/experiments/0\n"
     ]
    }
   ],
   "source": [
    "mlflow.set_tracking_uri('https://dagshub.com/kunalkaushik1982/womens-ecommerce-clothing-reviews.mlflow')\n",
    "dagshub.init(repo_owner='kunalkaushik1982', repo_name='womens-ecommerce-clothing-reviews', mlflow=True)\n",
    "\n",
    "import mlflow\n",
    "with mlflow.start_run():\n",
    "  mlflow.log_param('parameter name', 'value')\n",
    "  mlflow.log_metric('metric name', 1)"
   ]
  },
  {
   "cell_type": "code",
   "execution_count": null,
   "metadata": {},
   "outputs": [],
   "source": []
  },
  {
   "cell_type": "code",
   "execution_count": null,
   "metadata": {},
   "outputs": [],
   "source": []
  }
 ],
 "metadata": {
  "kernelspec": {
   "display_name": "myenv",
   "language": "python",
   "name": "python3"
  },
  "language_info": {
   "codemirror_mode": {
    "name": "ipython",
    "version": 3
   },
   "file_extension": ".py",
   "mimetype": "text/x-python",
   "name": "python",
   "nbconvert_exporter": "python",
   "pygments_lexer": "ipython3",
   "version": "3.11.4"
  }
 },
 "nbformat": 4,
 "nbformat_minor": 2
}
